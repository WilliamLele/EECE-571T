{
  "cells": [
    {
      "cell_type": "markdown",
      "metadata": {
        "id": "z0ffSZLoVp1F"
      },
      "source": [
        "# EECE-571T - Assignment 2"
      ]
    },
    {
      "cell_type": "code",
      "execution_count": 2,
      "metadata": {
        "colab": {
          "base_uri": "https://localhost:8080/"
        },
        "id": "HQmqVUUZqbEE",
        "outputId": "a6c22fe5-d7e0-44eb-9a74-915267e7f1d2"
      },
      "outputs": [
        {
          "output_type": "stream",
          "name": "stdout",
          "text": [
            "Mounted at /content/gdrive\n"
          ]
        }
      ],
      "source": [
        "from google.colab import drive\n",
        "drive.mount('/content/gdrive', force_remount=True)"
      ]
    },
    {
      "cell_type": "code",
      "execution_count": 3,
      "metadata": {
        "colab": {
          "base_uri": "https://localhost:8080/"
        },
        "id": "Ha-dMtFxqfT-",
        "outputId": "d4468fdc-c41f-419e-a8a1-f38070d53514"
      },
      "outputs": [
        {
          "output_type": "stream",
          "name": "stdout",
          "text": [
            "/content/gdrive/My Drive/EECE571T_Assignment2\n"
          ]
        }
      ],
      "source": [
        "%cd gdrive/My Drive/EECE571T_Assignment2/"
      ]
    },
    {
      "cell_type": "markdown",
      "metadata": {
        "id": "PpLqwKc9UjKl"
      },
      "source": [
        "### Imports"
      ]
    },
    {
      "cell_type": "code",
      "execution_count": 42,
      "metadata": {
        "id": "_7AAgEL2nHGg",
        "colab": {
          "base_uri": "https://localhost:8080/"
        },
        "outputId": "3f197776-0b5b-4a88-c6d3-c241ba1ed710"
      },
      "outputs": [
        {
          "output_type": "stream",
          "name": "stdout",
          "text": [
            "Running on torch.__version__ =  1.13.1+cu116\n"
          ]
        }
      ],
      "source": [
        "import time\n",
        "import numpy as np\n",
        "import pandas as pd\n",
        "import random\n",
        "import matplotlib.pyplot as plt\n",
        "\n",
        "# import standard PyTorch modules\n",
        "import torch\n",
        "import torch.nn as nn\n",
        "import torch.optim as optim\n",
        "\n",
        "# import torchvision module to handle image manipulation\n",
        "import torchvision\n",
        "import torchvision.transforms as transforms\n",
        "print(\"Running on torch.__version__ = \", torch.__version__)\n",
        "\n",
        "torch.backends.cudnn.deterministic = True\n",
        "\n",
        "# utils\n",
        "import os\n",
        "from tqdm import tqdm\n",
        "tqdm.pandas()\n",
        "from collections import Counter"
      ]
    },
    {
      "cell_type": "markdown",
      "metadata": {
        "id": "TUVmUx8PY4YA"
      },
      "source": [
        "### Helper Functions"
      ]
    },
    {
      "cell_type": "code",
      "execution_count": 41,
      "metadata": {
        "id": "de-TYlriY6ZE"
      },
      "outputs": [],
      "source": [
        "# a function to move tensors from the CPU to the GPU and vice versa\n",
        "def dict_to_device(orig, device):\n",
        "    new = {}\n",
        "    for k,v in orig.items():\n",
        "        new[k] = v.to(device)\n",
        "    return new\n",
        "\n",
        "# a function to make gray-scale images the same shape as color images\n",
        "def gray_to_color(x):\n",
        "    return x.repeat(3, 1, 1)\n",
        "\n",
        "# a function to plot a batch of images together\n",
        "def plot_images(img, ax):\n",
        "    img = torchvision.utils.make_grid(img)\n",
        "    npimg = img.numpy()\n",
        "    ax.imshow(np.transpose(npimg, (1, 2, 0)))  "
      ]
    },
    {
      "cell_type": "markdown",
      "metadata": {
        "id": "riEkmtv8VtaX"
      },
      "source": [
        "## Q1"
      ]
    },
    {
      "cell_type": "markdown",
      "metadata": {
        "id": "ia3AtMLRU0Zz"
      },
      "source": [
        "### Dataset and Dataloader"
      ]
    },
    {
      "cell_type": "code",
      "execution_count": 53,
      "metadata": {
        "id": "UGwIBAY3SYRy"
      },
      "outputs": [],
      "source": [
        "# Use standard MNIST dataset\n",
        "class MyDataset(torchvision.datasets.MNIST):    \n",
        "    def __init__(self, *args, debug=False, **kwargs):\n",
        "        super().__init__(*args, **kwargs)\n",
        "        self.debug = debug\n",
        "    \n",
        "    def __getitem__(self, idx):\n",
        "        data = super().__getitem__(idx)\n",
        "        img = data[0]\n",
        "        label = data[1]\n",
        "        return {'image': img, 'label': label}\n",
        "    \n",
        "    def __len__(self):\n",
        "        return super().__len__()\n",
        "\n",
        "dataset = MyDataset(\n",
        "    root = './',\n",
        "    train = True,\n",
        "    download = True,\n",
        "    transform = transforms.Compose([\n",
        "        transforms.ToTensor(),\n",
        "        gray_to_color,\n",
        "    ]),\n",
        "    debug=True,\n",
        ")\n",
        "\n",
        "loader = torch.utils.data.DataLoader(dataset, batch_size=128, num_workers=0)"
      ]
    },
    {
      "cell_type": "markdown",
      "metadata": {
        "id": "P0lazZkraP8M"
      },
      "source": [
        "### ToDo: train, validation, test split\n",
        "\n",
        "The standard MNIST dataset does not provide a validation set. Use 20% of the training data as the validation set.\n",
        "\n",
        "The standard MNIST dataset has a test set, and you can download it similar to downloading the train set, only by setting the train label to 'False'. Use the test set only for final the evaluation."
      ]
    },
    {
      "cell_type": "code",
      "execution_count": 54,
      "metadata": {
        "id": "uJ5ZEChSWYFV"
      },
      "outputs": [],
      "source": [
        "# ToDo: load the test set\n",
        "test_dataset = MyDataset(\n",
        "    root = './',\n",
        "    train = False,\n",
        "    download = True,\n",
        "    transform = transforms.Compose([\n",
        "        transforms.ToTensor(),\n",
        "        gray_to_color,\n",
        "    ]),\n",
        ")"
      ]
    },
    {
      "cell_type": "code",
      "execution_count": 55,
      "metadata": {
        "id": "noQlWs-Fbecq"
      },
      "outputs": [],
      "source": [
        "# ToDo: split the training data into train and validation, and define the dataloaders\n",
        "# Define the size of training/validation set\n",
        "train_size =  int(0.8 * len(dataset))\n",
        "val_size = len(dataset) - train_size\n",
        "train_dataset, val_dataset = torch.utils.data.random_split(dataset, [train_size, val_size])\n",
        "\n",
        "# Now we can define the dataloaders\n",
        "train_loader = torch.utils.data.DataLoader(\n",
        "    train_dataset,\n",
        "    batch_size = 64,\n",
        "    shuffle = True, # ensures the data is randomized to reduce bias\n",
        "    num_workers = 0\n",
        ")\n",
        "val_loader = torch.utils.data.DataLoader(\n",
        "    val_dataset,\n",
        "    batch_size = 64,\n",
        "    shuffle = False,\n",
        "    num_workers = 0\n",
        ")\n",
        "test_loader = torch.utils.data.DataLoader(\n",
        "    test_dataset,\n",
        "    batch_size = 64,\n",
        "    shuffle = False,\n",
        "    num_workers = 0\n",
        ")"
      ]
    },
    {
      "cell_type": "code",
      "execution_count": 56,
      "metadata": {
        "id": "TFgYOumlRZ8W",
        "colab": {
          "base_uri": "https://localhost:8080/"
        },
        "outputId": "b38bbb8c-6e95-4a69-ab10-09eec9ce452a"
      },
      "outputs": [
        {
          "output_type": "stream",
          "name": "stdout",
          "text": [
            "Train size: 48000\n",
            "Validation size: 12000\n",
            "Test size: 10000\n"
          ]
        }
      ],
      "source": [
        "# ToDo: print the size of train, validation, and test sets\n",
        "print(f\"Train size: {len(train_dataset)}\")\n",
        "print(f\"Validation size: {len(val_dataset)}\")\n",
        "print(f\"Test size: {len(test_dataset)}\")"
      ]
    },
    {
      "cell_type": "markdown",
      "metadata": {
        "id": "m-qcpHIZZsOY"
      },
      "source": [
        "### Network"
      ]
    },
    {
      "cell_type": "code",
      "execution_count": 57,
      "metadata": {
        "id": "3rV9ktECSYRz",
        "colab": {
          "base_uri": "https://localhost:8080/"
        },
        "outputId": "c0d30766-5228-42ba-9202-99ce4c4f305f"
      },
      "outputs": [
        {
          "output_type": "stream",
          "name": "stdout",
          "text": [
            "MyNetwork(\n",
            "  (conv1): Conv2d(3, 16, kernel_size=(3, 3), stride=(1, 1), padding=(1, 1))\n",
            "  (relu1): ReLU()\n",
            "  (pool1): MaxPool2d(kernel_size=2, stride=1, padding=0, dilation=1, ceil_mode=False)\n",
            "  (conv2): Conv2d(16, 32, kernel_size=(3, 3), stride=(1, 1), padding=(1, 1))\n",
            "  (relu2): ReLU()\n",
            "  (pool2): MaxPool2d(kernel_size=2, stride=1, padding=0, dilation=1, ceil_mode=False)\n",
            "  (fc): Linear(in_features=21632, out_features=10, bias=True)\n",
            ")\n"
          ]
        }
      ],
      "source": [
        "# an example of using available models in PyTorch\n",
        "class MyResNet(nn.Module):\n",
        "    def __init__(self):\n",
        "        super().__init__()\n",
        "        self.resnet18 = torchvision.models.resnet18(num_classes=10)\n",
        "    \n",
        "    def forward(self, input_dict):        \n",
        "        pred_label = self.resnet18(input_dict['image'])\n",
        "        return {'label': pred_label}\n",
        "\n",
        "# a simple CNN model, implemented from the scratch\n",
        "class MyNetwork(nn.Module):    \n",
        "    def __init__(self):\n",
        "        super(MyNetwork, self).__init__()\n",
        "        self.conv1 = nn.Conv2d(3, 16, kernel_size=3, stride=1, padding=1)\n",
        "        self.relu1 = nn.ReLU()\n",
        "        self.pool1 = nn.MaxPool2d(kernel_size=2, stride=1)\n",
        "        self.conv2 = nn.Conv2d(16, 32, kernel_size=3, stride=1, padding=1)\n",
        "        self.relu2 = nn.ReLU()\n",
        "        self.pool2 = nn.MaxPool2d(kernel_size=2, stride=1)        \n",
        "        self.fc = nn.Linear(32*26*26, 10)\n",
        "        \n",
        "    def forward(self, input_dict):                 \n",
        "        x = self.conv1(input_dict['image'])\n",
        "        x = self.relu1(x)\n",
        "        x = self.pool1(x)\n",
        "        x = self.conv2(x)\n",
        "        x = self.relu2(x)\n",
        "        x = self.pool2(x)        \n",
        "        x = x.view(x.size(0), -1)\n",
        "        x = self.fc(x)\n",
        "        pred_label = nn.functional.log_softmax(x, dim=1)\n",
        "\n",
        "        return {'label': pred_label}\n",
        "\n",
        "# You can choose either of the defined networks, or define your own neural net\n",
        "network = MyNetwork().to('cuda')\n",
        "print(network)"
      ]
    },
    {
      "cell_type": "markdown",
      "metadata": {
        "id": "X82PEwzSZvXg"
      },
      "source": [
        "### Training"
      ]
    },
    {
      "cell_type": "code",
      "execution_count": 58,
      "metadata": {
        "id": "7K_GSHDCVUXB",
        "colab": {
          "base_uri": "https://localhost:8080/",
          "height": 251
        },
        "outputId": "c6e43ad7-6e68-48f7-87e5-f2152df73c6b"
      },
      "outputs": [
        {
          "output_type": "display_data",
          "data": {
            "text/plain": [
              "<Figure size 1600x400 with 3 Axes>"
            ],
            "image/png": "[encoded data removed]"
          },
          "metadata": {}
        },
        {
          "output_type": "stream",
          "name": "stdout",
          "text": [
            "Validation epoch 11, iteration 180 of 188 (95 %), loss=0.07657737284898758\n"
          ]
        }
      ],
      "source": [
        "# training loop\n",
        "%matplotlib inline\n",
        "from IPython import display\n",
        "\n",
        "# prepare plotting\n",
        "fig = plt.figure(figsize=(20, 5), dpi= 80, facecolor='w', edgecolor='k')\n",
        "axes = fig.subplots(1,3)\n",
        "\n",
        "optimizer = torch.optim.Adam(network.parameters(), lr=0.003)\n",
        "\n",
        "num_epochs = 12\n",
        "train_losses = []\n",
        "val_losses = []\n",
        "\n",
        "for e in range(num_epochs):\n",
        "    train_iter = iter(train_loader)\n",
        "    network.train()\n",
        "    for i in range(len(train_loader)):        \n",
        "        batch_cpu = next(train_iter)\n",
        "        batch_gpu = dict_to_device(batch_cpu, 'cuda')\n",
        "        pred = network(batch_gpu)\n",
        "        pred_cpu = dict_to_device(pred, 'cpu')\n",
        "        \n",
        "        # calculate the loss and backward the gradient\n",
        "        loss = nn.CrossEntropyLoss()(pred['label'], batch_gpu['label'])        \n",
        "        optimizer.zero_grad()\n",
        "        loss.backward()\n",
        "        optimizer.step()\n",
        "        train_losses.append(loss.item())           \n",
        "\n",
        "        if i%100==0:            \n",
        "            axes[0].cla()\n",
        "            axes[1].cla()            \n",
        "\n",
        "            # plot some sample image inputs\n",
        "            plot_images(batch_cpu['image'][0:1], ax=axes[0])    \n",
        "            axes[0].legend()\n",
        "            axes[0].set_title('sample input')\n",
        "\n",
        "            # plot the training error on a log plot\n",
        "            axes[1].plot(train_losses, label='loss')\n",
        "            axes[1].set_yscale('log')\n",
        "            axes[1].set_title('Training loss')\n",
        "            axes[1].set_xlabel('number of gradient iterations')\n",
        "            axes[1].legend()\n",
        "\n",
        "            # clear output window and diplay updated figure\n",
        "            display.clear_output(wait=True)\n",
        "            display.display(plt.gcf())\n",
        "            print(\"Training epoch {}, iteration {} of {} ({} %), loss={}\".format(e, i, len(train_loader), 100*i//len(train_loader), train_losses[-1]))            \n",
        "\n",
        "    val_iter = iter(val_loader)\n",
        "    network.eval()    \n",
        "    for i in range(len(val_loader)):\n",
        "        batch_cpu = next(val_iter)\n",
        "        batch_gpu = dict_to_device(batch_cpu, 'cuda')\n",
        "        pred = network(batch_gpu)\n",
        "        pred_cpu = dict_to_device(pred, 'cpu')\n",
        "        \n",
        "        # calculate the loss\n",
        "        with torch.no_grad():\n",
        "            loss = nn.CrossEntropyLoss()(pred['label'], batch_gpu['label'])        \n",
        "            val_losses.append(loss.item()) \n",
        "\n",
        "        if i%10==0: \n",
        "            axes[2].cla()            \n",
        "\n",
        "            # plot the validation error on a log plot\n",
        "            axes[2].plot(val_losses, label='loss')\n",
        "            axes[2].set_yscale('log')\n",
        "            axes[2].set_title('Validation loss')\n",
        "            axes[2].set_xlabel('number of gradient iterations')\n",
        "            axes[2].legend()\n",
        "\n",
        "            # clear output window and diplay updated figure\n",
        "            display.clear_output(wait=True)\n",
        "            display.display(plt.gcf())\n",
        "            print(\"Validation epoch {}, iteration {} of {} ({} %), loss={}\".format(e, i, len(val_loader), 100*i//len(val_loader), val_losses[-1]))            \n",
        "plt.close('all')"
      ]
    },
    {
      "cell_type": "markdown",
      "metadata": {
        "id": "bLWTsDFJWgbP"
      },
      "source": [
        "### ToDo: Evaluation\n",
        "\n",
        "Here we want to report the accuracy of the network's predictions. We have defined a function named 'get_accuracy' that returns the accuracy of the network on its input data.\n",
        "\n",
        "Here, we assumed that the network returns class probabilities as output. If your network returns class indices, you need to change this evaluation function as well.\n",
        "\n",
        "Print the accuracy of your network for the train, validation, and test sets."
      ]
    },
    {
      "cell_type": "code",
      "execution_count": 59,
      "metadata": {
        "id": "XfxpL80cWgPN"
      },
      "outputs": [],
      "source": [
        "def get_accuracy(network, data_loader):\n",
        "    network.eval()\n",
        "    iterator = iter(data_loader)    \n",
        "    correct = 0\n",
        "    total = 0\n",
        "    for i in range(len(iterator)):        \n",
        "        batch_cpu = next(iterator)\n",
        "        batch_gpu = dict_to_device(batch_cpu, 'cuda')        \n",
        "        pred = network(batch_gpu)['label'].argmax(dim=1, keepdim=True)                                         \n",
        "        correct += pred.eq(batch_gpu['label'].view_as(pred)).sum().item()        \n",
        "        total += pred.shape[0]\n",
        "           \n",
        "    return correct / total"
      ]
    },
    {
      "cell_type": "code",
      "execution_count": 60,
      "metadata": {
        "id": "QpLmlfSMVTQT",
        "colab": {
          "base_uri": "https://localhost:8080/"
        },
        "outputId": "3c8cfce8-3dbd-4da5-d97e-2a7292bd9152"
      },
      "outputs": [
        {
          "output_type": "stream",
          "name": "stdout",
          "text": [
            "Accuracy on train set: 99.62%\n",
            "Accuracy on validation set: 98.22%\n",
            "Accuracy on test set: 98.43%\n"
          ]
        }
      ],
      "source": [
        "# ToDo: report accuracy on train, validation, and test sets\n",
        "train_acc = get_accuracy(network, train_loader)\n",
        "val_acc = get_accuracy(network, val_loader)\n",
        "test_acc = get_accuracy(network, test_loader)\n",
        "\n",
        "print(\"Accuracy on train set: {:.2f}%\".format(train_acc*100))\n",
        "print(\"Accuracy on validation set: {:.2f}%\".format(val_acc*100))\n",
        "print(\"Accuracy on test set: {:.2f}%\".format(test_acc*100))"
      ]
    },
    {
      "cell_type": "code",
      "execution_count": 61,
      "metadata": {
        "id": "PorIeQrxYBxo",
        "colab": {
          "base_uri": "https://localhost:8080/",
          "height": 174
        },
        "outputId": "d918be34-9f41-4ddd-ca7f-fb7f7b5b0785"
      },
      "outputs": [
        {
          "output_type": "display_data",
          "data": {
            "text/plain": [
              "<Figure size 720x194.4 with 16 Axes>"
            ],
            "image/png": "[encoded data removed]"
          },
          "metadata": {
            "needs_background": "light"
          }
        }
      ],
      "source": [
        "# ToDo: Plot the input images and output of your network for a few samples in the test set\n",
        "# set device\n",
        "device = torch.device('cuda' if torch.cuda.is_available() else 'cpu')\n",
        "\n",
        "# set network to eval mode\n",
        "network.eval()\n",
        "\n",
        "# get some test samples\n",
        "test_iter = iter(test_loader)\n",
        "test_batch = next(test_iter)\n",
        "test_batch_gpu = dict_to_device(test_batch, device)\n",
        "\n",
        "# predict on test samples\n",
        "with torch.no_grad():\n",
        "    test_pred = network(test_batch_gpu)\n",
        "\n",
        "# get the predicted labels\n",
        "test_pred_labels = torch.argmax(test_pred['label'], dim=1)\n",
        "\n",
        "# plot the input images and predicted labels\n",
        "fig, axes = plt.subplots(2, 8, figsize=(10, 2.7))\n",
        "\n",
        "for i in range(8):\n",
        "    # plot input image\n",
        "    axes[0, i].imshow(test_batch['image'][i].permute(1, 2, 0))\n",
        "    axes[0, i].axis('off')\n",
        "    #axes[0, i].set_title(f'Input: {test_batch[\"label\"][i].item()}')\n",
        "    \n",
        "    # plot output label\n",
        "    #axes[1, i].imshow(test_pred['label'][i].cpu(), cmap='gray')\n",
        "    axes[1, i].axis('off')\n",
        "    axes[1, i].set_title(f'Label: {test_batch[\"label\"][i].item()}')\n",
        "\n",
        "plt.show()\n"
      ]
    },
    {
      "cell_type": "markdown",
      "metadata": {
        "id": "OWduSu89XD1_"
      },
      "source": [
        "## Q2"
      ]
    },
    {
      "cell_type": "markdown",
      "metadata": {
        "id": "mOzcfTl5Y_K3"
      },
      "source": [
        "### Dataset and Dataloader"
      ]
    },
    {
      "cell_type": "code",
      "execution_count": 62,
      "metadata": {
        "id": "kBL6xWU0Y_K7"
      },
      "outputs": [],
      "source": [
        "# Use standard MNIST dataset\n",
        "class AnomalyDataset(torch.utils.data.Dataset):\n",
        "    def __init__(self, data):          \n",
        "        self.data = data\n",
        "        self.digits = {0:[], 1:[], 2:[], 3:[], 4:[]}        \n",
        "        for idx in range(len(self.data)):    \n",
        "            digit = self.data[idx][1]\n",
        "            if digit in self.digits.keys():\n",
        "                self.digits[digit].append(idx)        \n",
        "\n",
        "    def __len__(self):\n",
        "        return len(self.data)\n",
        "\n",
        "    def __getitem__(self, index):      \n",
        "        norm, anomaly = random.sample(self.digits.keys(), k=2)\n",
        "        anomaly_loc, = random.sample([0, 1, 2], k=1)\n",
        "        norm1_idx, norm2_idx = random.sample(self.digits[norm], k=2)\n",
        "        anomaly_idx, = random.sample(self.digits[anomaly], k=1)\n",
        "        if anomaly_loc == 0:\n",
        "            img0 = self.data[anomaly_idx][0]\n",
        "            img1 = self.data[norm1_idx][0]\n",
        "            img2 = self.data[norm2_idx][0]\n",
        "        elif anomaly_loc == 1:\n",
        "            img0 = self.data[norm1_idx][0]\n",
        "            img1 = self.data[anomaly_idx][0]\n",
        "            img2 = self.data[norm2_idx][0]\n",
        "        elif anomaly_loc == 2:\n",
        "            img0 = self.data[norm1_idx][0]\n",
        "            img1 = self.data[norm2_idx][0]\n",
        "            img2 = self.data[anomaly_idx][0]          \n",
        "\n",
        "        return {'img0': img0, 'img1': img1, 'img2': img2, 'index': anomaly_loc}        \n",
        "\n",
        "dataset = AnomalyDataset(torchvision.datasets.MNIST(\n",
        "    root = './',\n",
        "    train = True,\n",
        "    download = True,\n",
        "    transform = transforms.Compose([\n",
        "        transforms.ToTensor(),\n",
        "        gray_to_color,\n",
        "    ])\n",
        "))\n",
        "\n",
        "loader = torch.utils.data.DataLoader(dataset, batch_size=128, num_workers=0)"
      ]
    },
    {
      "cell_type": "code",
      "execution_count": 63,
      "metadata": {
        "id": "ozpjw8-ccVje",
        "colab": {
          "base_uri": "https://localhost:8080/"
        },
        "outputId": "06411b0b-13cd-4ce1-e0a1-9f3e6ba243f8"
      },
      "outputs": [
        {
          "output_type": "stream",
          "name": "stdout",
          "text": [
            "Selected digits and their frequencies:\n",
            "0 5923\n",
            "1 6742\n",
            "2 5958\n",
            "3 6131\n",
            "4 5842\n"
          ]
        }
      ],
      "source": [
        "print('Selected digits and their frequencies:')\n",
        "for key, value in loader.dataset.digits.items():\n",
        "    print(key, len(value))"
      ]
    },
    {
      "cell_type": "markdown",
      "metadata": {
        "id": "spH6m-qn1TSZ"
      },
      "source": [
        "### ToDo: train, validation, test split\n",
        "\n",
        "Use 20% of the training data as the validation set.\n",
        "\n",
        "The standard MNIST dataset has a test set, and you can download it similar to downloading the train set, only by setting the train label to 'False'. Use the test set only for final the evaluation."
      ]
    },
    {
      "cell_type": "code",
      "execution_count": 64,
      "metadata": {
        "id": "7ffVjsnYcBYh"
      },
      "outputs": [],
      "source": [
        "# ToDo: load the test set\n",
        "test_dataset = torchvision.datasets.MNIST(\n",
        "    root='./',\n",
        "    train=False,\n",
        "    download=True,\n",
        "    transform=transforms.Compose([\n",
        "        transforms.ToTensor(),\n",
        "        gray_to_color,\n",
        "    ])\n",
        ")"
      ]
    },
    {
      "cell_type": "code",
      "execution_count": 65,
      "metadata": {
        "id": "9uZIh9v61TSZ"
      },
      "outputs": [],
      "source": [
        "\n",
        "# ToDo: define the dataloaders\n",
        "# Define the size of training/validation set\n",
        "train_size =  int(0.8 * len(dataset))\n",
        "val_size = len(dataset) - train_size\n",
        "[train_dataset, val_dataset] = torch.utils.data.random_split(dataset, [0.8, 0.2])\n",
        "\n",
        "# Now we can define the dataloaders\n",
        "train_loader = torch.utils.data.DataLoader(\n",
        "    train_dataset,\n",
        "    batch_size = 128,\n",
        "    num_workers = 0\n",
        ")\n",
        "val_loader = torch.utils.data.DataLoader(\n",
        "    val_dataset,\n",
        "    batch_size = 128,\n",
        "    num_workers = 0\n",
        ")\n",
        "test_loader = torch.utils.data.DataLoader(\n",
        "    test_dataset,\n",
        "    batch_size = 128,\n",
        "    num_workers = 0\n",
        ")"
      ]
    },
    {
      "cell_type": "code",
      "execution_count": 66,
      "metadata": {
        "id": "0dx5H2Z7SY1H",
        "colab": {
          "base_uri": "https://localhost:8080/"
        },
        "outputId": "ffd3d3bb-8cdb-4f46-90c4-b090979f9e1b"
      },
      "outputs": [
        {
          "output_type": "stream",
          "name": "stdout",
          "text": [
            "Training set size: 48000\n",
            "Validation set size: 12000\n",
            "Test set size: 10000\n"
          ]
        }
      ],
      "source": [
        "# ToDo: print the size of train, validation, and test sets\n",
        "print(f\"Training set size: {len(train_dataset)}\")\n",
        "print(f\"Validation set size: {len(val_dataset)}\")\n",
        "print(f\"Test set size: {len(test_dataset)}\")"
      ]
    },
    {
      "cell_type": "markdown",
      "metadata": {
        "id": "7wYMpiDnsfLI"
      },
      "source": [
        "### ToDo: Network\n",
        "\n",
        "Implement a neural network that takes three images as input and returns the index of the image with the different digit.\n",
        "\n",
        "Your network should take a python dictionary as input and extract the input images from it. Your network should return a python dictionaly containing a key named 'index'."
      ]
    },
    {
      "cell_type": "code",
      "execution_count": 67,
      "metadata": {
        "id": "Ey8RaNhWsfLO",
        "colab": {
          "base_uri": "https://localhost:8080/"
        },
        "outputId": "6942af82-9db0-4ce6-ed6a-f6ef0acb0cb6"
      },
      "outputs": [
        {
          "output_type": "stream",
          "name": "stdout",
          "text": [
            "MyNetwork(\n",
            "  (conv1): Conv2d(9, 16, kernel_size=(3, 3), stride=(1, 1), padding=(1, 1))\n",
            "  (pool1): MaxPool2d(kernel_size=2, stride=1, padding=0, dilation=1, ceil_mode=False)\n",
            "  (relu1): ReLU()\n",
            "  (conv2): Conv2d(16, 32, kernel_size=(3, 3), stride=(1, 1), padding=(1, 1))\n",
            "  (pool2): MaxPool2d(kernel_size=2, stride=1, padding=0, dilation=1, ceil_mode=False)\n",
            "  (relu2): ReLU()\n",
            "  (conv3): Conv2d(32, 128, kernel_size=(3, 3), stride=(1, 1), padding=(1, 1))\n",
            "  (pool3): MaxPool2d(kernel_size=2, stride=1, padding=0, dilation=1, ceil_mode=False)\n",
            "  (relu3): ReLU()\n",
            "  (fc): Linear(in_features=80000, out_features=128, bias=True)\n",
            "  (fc2): Linear(in_features=128, out_features=9216, bias=True)\n",
            ")\n"
          ]
        }
      ],
      "source": [
        "# ToDo: Implement your neural network from scratch\n",
        "class MyNetwork(nn.Module):    \n",
        "    def __init__(self):\n",
        "        super(MyNetwork, self).__init__()\n",
        "\n",
        "        # ToDo: code here\n",
        "        # 9 input channels, 16 output channels, 3x3 kernel\n",
        "        self.conv1 = nn.Conv2d(9, 16, kernel_size=3, stride=1, padding=1)\n",
        "        self.pool1 = nn.MaxPool2d(kernel_size=2, stride=1)\n",
        "        self.relu1 = nn.ReLU()\n",
        "\n",
        "        # 16 input channels, 32 output channels, 3x3 kernel\n",
        "        self.conv2 = nn.Conv2d(16, 32, kernel_size=3, stride=1, padding=1)\n",
        "        self.pool2 = nn.MaxPool2d(kernel_size=2, stride=1)\n",
        "        self.relu2 = nn.ReLU()\n",
        "\n",
        "        # 32 input channels, 128 output channels, 3x3 kernel\n",
        "        self.conv3 = nn.Conv2d(32, 128, kernel_size=3, stride=1, padding=1)\n",
        "        self.pool3 = nn.MaxPool2d(kernel_size=2, stride=1)\n",
        "        self.relu3 = nn.ReLU()\n",
        "\n",
        "        # fully connected layer\n",
        "        self.fc = nn.Linear(80000, 128)\n",
        "        self.fc2 = nn.Linear(128, 9216)\n",
        "        \n",
        "    def forward(self, input_dict):                         \n",
        "        img0 = input_dict['img0']        \n",
        "        img1 = input_dict['img1']\n",
        "        img2 = input_dict['img2']\n",
        "        \n",
        "        # ToDo: code here\n",
        "\n",
        "        # Hint: use padding in conv layers to adjust the dimensions\n",
        "        # Hint: max-pooling and ReLU layers can be useful\n",
        "        # Hint: choose a suitable activation function for the last layer \n",
        "        # concatenate the 3 input images\n",
        "        x = torch.cat((img0, img1, img2), dim=1)\n",
        "\n",
        "        # apply convolutional layers\n",
        "        x = self.conv1(x)\n",
        "        x = self.pool1(x)\n",
        "        x = self.relu1(x)\n",
        "        x = self.conv2(x)\n",
        "        x = self.pool2(x)\n",
        "        x = self.relu2(x)\n",
        "        x = self.conv3(x)\n",
        "        x = self.pool3(x)\n",
        "        x = self.relu3(x)\n",
        "\n",
        "        # flatten and apply fully connected layer\n",
        "        x = x.view(x.size(0), -1)\n",
        "        x = self.fc(x)\n",
        "        x = self.fc2(x)\n",
        "        pred_index = x\n",
        "\n",
        "        return {'index': pred_index}\n",
        "\n",
        "network = MyNetwork().to('cuda')\n",
        "print(network)"
      ]
    },
    {
      "cell_type": "markdown",
      "metadata": {
        "id": "tXtc6rhhtwGC"
      },
      "source": [
        "### ToDo: Training"
      ]
    },
    {
      "cell_type": "code",
      "execution_count": 68,
      "metadata": {
        "id": "li1mo8YCUeif"
      },
      "outputs": [],
      "source": [
        "# ToDo: define a suitable loss function \n",
        "import torch.nn.functional as F\n",
        "\n",
        "def my_loss_function(predicted_index, target_index):\n",
        "\n",
        "  # code here\n",
        "  loss = F.cross_entropy(predicted_index, target_index)\n",
        "\n",
        "  return loss "
      ]
    },
    {
      "cell_type": "code",
      "execution_count": 69,
      "metadata": {
        "id": "Oz7ycBagtwGD",
        "colab": {
          "base_uri": "https://localhost:8080/",
          "height": 246
        },
        "outputId": "3fb506f0-59bc-4923-c17c-6d3b4980e82f"
      },
      "outputs": [
        {
          "output_type": "display_data",
          "data": {
            "text/plain": [
              "<Figure size 1600x400 with 3 Axes>"
            ],
            "image/png": "[encoded data removed]"
          },
          "metadata": {}
        },
        {
          "output_type": "stream",
          "name": "stdout",
          "text": [
            "Validation epoch 4, iteration 90 of 94 (95 %), loss=0.08198706060647964\n"
          ]
        }
      ],
      "source": [
        "# training loop\n",
        "%matplotlib inline\n",
        "from IPython import display\n",
        "\n",
        "# prepare plotting\n",
        "fig = plt.figure(figsize=(20, 5), dpi= 80, facecolor='w', edgecolor='k')\n",
        "axes = fig.subplots(1,3)\n",
        "\n",
        "optimizer = torch.optim.Adam(network.parameters(), lr=0.001)\n",
        "\n",
        "num_epochs = 5\n",
        "train_losses = []\n",
        "val_losses = []\n",
        "\n",
        "for e in range(num_epochs):\n",
        "    train_iter = iter(train_loader)\n",
        "    network.train()\n",
        "    for i in range(len(train_loader)):        \n",
        "        batch_cpu = next(train_iter)\n",
        "        batch_gpu = dict_to_device(batch_cpu, 'cuda')\n",
        "        pred = network(batch_gpu)\n",
        "        pred_cpu = dict_to_device(pred, 'cpu')\n",
        "        \n",
        "        # calculate the loss and backward the gradient\n",
        "        loss = my_loss_function(pred['index'], batch_gpu['index'])        \n",
        "        optimizer.zero_grad()\n",
        "        loss.backward()\n",
        "        optimizer.step()\n",
        "        train_losses.append(loss.item())           \n",
        "\n",
        "        if i%100==0:            \n",
        "            axes[0].cla()\n",
        "            axes[1].cla()            \n",
        "\n",
        "            # plot some sample image inputs            \n",
        "            plot_images(torch.cat((batch_cpu['img0'][0:1], batch_cpu['img1'][0:1], batch_cpu['img2'][0:1]), 0), ax=axes[0])    \n",
        "            axes[0].legend()\n",
        "            axes[0].set_title('sample input')\n",
        "\n",
        "            # plot the training error on a log plot\n",
        "            axes[1].plot(train_losses, label='loss')\n",
        "            axes[1].set_yscale('log')\n",
        "            axes[1].set_title('Training loss')\n",
        "            axes[1].set_xlabel('number of gradient iterations')\n",
        "            axes[1].legend()\n",
        "\n",
        "            # clear output window and diplay updated figure\n",
        "            display.clear_output(wait=True)\n",
        "            display.display(plt.gcf())\n",
        "            print(\"Training epoch {}, iteration {} of {} ({} %), loss={}\".format(e, i, len(train_loader), 100*i//len(train_loader), train_losses[-1]))            \n",
        "\n",
        "    val_iter = iter(val_loader)\n",
        "    network.eval()    \n",
        "    for i in range(len(val_loader)):\n",
        "        batch_cpu = next(val_iter)\n",
        "        batch_gpu = dict_to_device(batch_cpu, 'cuda')\n",
        "        pred = network(batch_gpu)\n",
        "        pred_cpu = dict_to_device(pred, 'cpu')\n",
        "        \n",
        "        # calculate the loss\n",
        "        with torch.no_grad():\n",
        "            loss = my_loss_function(pred['index'], batch_gpu['index'])        \n",
        "            val_losses.append(loss.item()) \n",
        "\n",
        "        if i%10==0: \n",
        "            axes[2].cla()            \n",
        "\n",
        "            # plot the validation error on a log plot\n",
        "            axes[2].plot(val_losses, label='loss')\n",
        "            axes[2].set_yscale('log')\n",
        "            axes[2].set_title('Validation loss')\n",
        "            axes[2].set_xlabel('number of gradient iterations')\n",
        "            axes[2].legend()\n",
        "\n",
        "            # clear output window and diplay updated figure\n",
        "            display.clear_output(wait=True)\n",
        "            display.display(plt.gcf())\n",
        "            print(\"Validation epoch {}, iteration {} of {} ({} %), loss={}\".format(e, i, len(val_loader), 100*i//len(val_loader), val_losses[-1]))            \n",
        "plt.close('all')"
      ]
    },
    {
      "cell_type": "markdown",
      "metadata": {
        "id": "FZgyhGeBym3C"
      },
      "source": [
        "### ToDo: Evaluation\n",
        "\n",
        "Here we want to report the accuracy of the network's predictions. We have defined a function named 'get_accuracy' that returns the accuracy of the network on its input data.\n",
        "\n",
        "Here, we assumed that the network returns class probabilities as output. If your network returns class indices, you need to change this evaluation function as well.\n",
        "\n",
        "Print the accuracy of your network for the train, validation, and test sets."
      ]
    },
    {
      "cell_type": "code",
      "execution_count": 70,
      "metadata": {
        "id": "hK6tKCwKym3M"
      },
      "outputs": [],
      "source": [
        "def get_accuracy(network, data_loader):\n",
        "    network.eval()\n",
        "    iterator = iter(data_loader)    \n",
        "    correct = 0\n",
        "    total = 0\n",
        "    for i in range(len(iterator)):        \n",
        "        batch_cpu = next(iterator)\n",
        "        batch_gpu = dict_to_device(batch_cpu, 'cuda')        \n",
        "        pred = network(batch_gpu)['index'].argmax(dim=1, keepdim=True)                                         \n",
        "        correct += pred.eq(batch_gpu['index'].view_as(pred)).sum().item()        \n",
        "        total += pred.shape[0]\n",
        "           \n",
        "    return correct / total"
      ]
    },
    {
      "cell_type": "code",
      "execution_count": null,
      "metadata": {
        "id": "y3awYYf41IJ8"
      },
      "outputs": [],
      "source": [
        "# ToDo: report accuracy on train, validation, and test sets\n",
        "train_acc = get_accuracy(network, train_loader)\n",
        "val_acc = get_accuracy(network, val_loader)\n",
        "test_acc = get_accuracy(network, test_loader)\n",
        "\n",
        "print(\"Accuracy on train set: {:.2f}%\".format(train_acc*100))\n",
        "print(\"Accuracy on validation set: {:.2f}%\".format(val_acc*100))\n",
        "print(\"Accuracy on test set: {:.2f}%\".format(test_acc*100))"
      ]
    },
    {
      "cell_type": "code",
      "execution_count": null,
      "metadata": {
        "id": "0TZ_ZGTTzEfe"
      },
      "outputs": [],
      "source": [
        "# ToDo: Plot the input images and output of your network for a few samples in the test set\n",
        "def plot_images(images, title=None, ax=None):\n",
        "  ax.imshow(images.permute(1,2,0).cpu().numpy())\n",
        "  ax.axis('off')\n",
        "  if title:\n",
        "        ax.set_title(title)\n",
        "      \n",
        "# Get a batch of samples from the test set\n",
        "samples = next(iter(test_loader))\n",
        "\n",
        "# Concatenate the three input images\n",
        "images = torch.cat((samples['img0'], samples['img1'], samples['img2']), 3)\n",
        "\n",
        "# Send the batch to the GPU\n",
        "batch_test_gpu = dict_to_device(samples, 'cuda')\n",
        "\n",
        "# Forward pass through the network\n",
        "pred_test = network(batch_test_gpu)\n",
        "\n",
        "# Get the predicted indices for the batch\n",
        "pred_indices = pred_test['index'].data.max(1, keepdim=True)[1].cpu().numpy()\n",
        "\n",
        "# Plot a few samples from the batch\n",
        "fig, axes = plt.subplots(3, 2, figsize=(10, 15))\n",
        "for i in range(3):\n",
        "    j = random.randint(0, 127)\n",
        "    # Plot the three input images\n",
        "    plot_images(images[j], title='Input Images', ax=axes[i, 0])\n",
        "    # Plot the predicted index\n",
        "    axes[i, 1].text(0.5, 0.5, f'Predicted Index: {pred_indices[j][0]}', \n",
        "                    ha='center', va='center', fontsize=14)\n",
        "    axes[i, 1].axis('off')\n",
        "\n",
        "plt.show()"
      ]
    },
    {
      "cell_type": "markdown",
      "metadata": {
        "id": "GwAZBm99hfSk"
      },
      "source": [
        "## Q3"
      ]
    },
    {
      "cell_type": "markdown",
      "metadata": {
        "id": "M516Ld3Lfnm9"
      },
      "source": [
        "### Load and Tokenize Data"
      ]
    },
    {
      "cell_type": "code",
      "execution_count": 72,
      "metadata": {
        "id": "TK_xBX9jbi_M",
        "colab": {
          "base_uri": "https://localhost:8080/",
          "height": 206
        },
        "outputId": "3512a304-67d5-4ce4-fd12-07704c622504"
      },
      "outputs": [
        {
          "output_type": "execute_result",
          "data": {
            "text/plain": [
              "                                           processed  label\n",
              "0  One reviewer mentioned watching Oz episode hoo...      1\n",
              "1  A wonderful little production . The filming te...      1\n",
              "2  I thought wonderful way spend time hot summer ...      1\n",
              "3  Basically family little boy Jake think zombie ...      0\n",
              "4  Petter Mattei Love Time Money visually stunnin...      1"
            ],
            "text/html": [
              "\n",
              "  <div id=\"df-7ed1208a-a73c-4728-9221-cdc36e81f6c1\">\n",
              "    <div class=\"colab-df-container\">\n",
              "      <div>\n",
              "<style scoped>\n",
              "    .dataframe tbody tr th:only-of-type {\n",
              "        vertical-align: middle;\n",
              "    }\n",
              "\n",
              "    .dataframe tbody tr th {\n",
              "        vertical-align: top;\n",
              "    }\n",
              "\n",
              "    .dataframe thead th {\n",
              "        text-align: right;\n",
              "    }\n",
              "</style>\n",
              "<table border=\"1\" class=\"dataframe\">\n",
              "  <thead>\n",
              "    <tr style=\"text-align: right;\">\n",
              "      <th></th>\n",
              "      <th>processed</th>\n",
              "      <th>label</th>\n",
              "    </tr>\n",
              "  </thead>\n",
              "  <tbody>\n",
              "    <tr>\n",
              "      <th>0</th>\n",
              "      <td>One reviewer mentioned watching Oz episode hoo...</td>\n",
              "      <td>1</td>\n",
              "    </tr>\n",
              "    <tr>\n",
              "      <th>1</th>\n",
              "      <td>A wonderful little production . The filming te...</td>\n",
              "      <td>1</td>\n",
              "    </tr>\n",
              "    <tr>\n",
              "      <th>2</th>\n",
              "      <td>I thought wonderful way spend time hot summer ...</td>\n",
              "      <td>1</td>\n",
              "    </tr>\n",
              "    <tr>\n",
              "      <th>3</th>\n",
              "      <td>Basically family little boy Jake think zombie ...</td>\n",
              "      <td>0</td>\n",
              "    </tr>\n",
              "    <tr>\n",
              "      <th>4</th>\n",
              "      <td>Petter Mattei Love Time Money visually stunnin...</td>\n",
              "      <td>1</td>\n",
              "    </tr>\n",
              "  </tbody>\n",
              "</table>\n",
              "</div>\n",
              "      <button class=\"colab-df-convert\" onclick=\"convertToInteractive('df-7ed1208a-a73c-4728-9221-cdc36e81f6c1')\"\n",
              "              title=\"Convert this dataframe to an interactive table.\"\n",
              "              style=\"display:none;\">\n",
              "        \n",
              "  <svg xmlns=\"http://www.w3.org/2000/svg\" height=\"24px\"viewBox=\"0 0 24 24\"\n",
              "       width=\"24px\">\n",
              "    <path d=\"M0 0h24v24H0V0z\" fill=\"none\"/>\n",
              "    <path d=\"M18.56 5.44l.94 2.06.94-2.06 2.06-.94-2.06-.94-.94-2.06-.94 2.06-2.06.94zm-11 1L8.5 8.5l.94-2.06 2.06-.94-2.06-.94L8.5 2.5l-.94 2.06-2.06.94zm10 10l.94 2.06.94-2.06 2.06-.94-2.06-.94-.94-2.06-.94 2.06-2.06.94z\"/><path d=\"M17.41 7.96l-1.37-1.37c-.4-.4-.92-.59-1.43-.59-.52 0-1.04.2-1.43.59L10.3 9.45l-7.72 7.72c-.78.78-.78 2.05 0 2.83L4 21.41c.39.39.9.59 1.41.59.51 0 1.02-.2 1.41-.59l7.78-7.78 2.81-2.81c.8-.78.8-2.07 0-2.86zM5.41 20L4 18.59l7.72-7.72 1.47 1.35L5.41 20z\"/>\n",
              "  </svg>\n",
              "      </button>\n",
              "      \n",
              "  <style>\n",
              "    .colab-df-container {\n",
              "      display:flex;\n",
              "      flex-wrap:wrap;\n",
              "      gap: 12px;\n",
              "    }\n",
              "\n",
              "    .colab-df-convert {\n",
              "      background-color: #E8F0FE;\n",
              "      border: none;\n",
              "      border-radius: 50%;\n",
              "      cursor: pointer;\n",
              "      display: none;\n",
              "      fill: #1967D2;\n",
              "      height: 32px;\n",
              "      padding: 0 0 0 0;\n",
              "      width: 32px;\n",
              "    }\n",
              "\n",
              "    .colab-df-convert:hover {\n",
              "      background-color: #E2EBFA;\n",
              "      box-shadow: 0px 1px 2px rgba(60, 64, 67, 0.3), 0px 1px 3px 1px rgba(60, 64, 67, 0.15);\n",
              "      fill: #174EA6;\n",
              "    }\n",
              "\n",
              "    [theme=dark] .colab-df-convert {\n",
              "      background-color: #3B4455;\n",
              "      fill: #D2E3FC;\n",
              "    }\n",
              "\n",
              "    [theme=dark] .colab-df-convert:hover {\n",
              "      background-color: #434B5C;\n",
              "      box-shadow: 0px 1px 3px 1px rgba(0, 0, 0, 0.15);\n",
              "      filter: drop-shadow(0px 1px 2px rgba(0, 0, 0, 0.3));\n",
              "      fill: #FFFFFF;\n",
              "    }\n",
              "  </style>\n",
              "\n",
              "      <script>\n",
              "        const buttonEl =\n",
              "          document.querySelector('#df-7ed1208a-a73c-4728-9221-cdc36e81f6c1 button.colab-df-convert');\n",
              "        buttonEl.style.display =\n",
              "          google.colab.kernel.accessAllowed ? 'block' : 'none';\n",
              "\n",
              "        async function convertToInteractive(key) {\n",
              "          const element = document.querySelector('#df-7ed1208a-a73c-4728-9221-cdc36e81f6c1');\n",
              "          const dataTable =\n",
              "            await google.colab.kernel.invokeFunction('convertToInteractive',\n",
              "                                                     [key], {});\n",
              "          if (!dataTable) return;\n",
              "\n",
              "          const docLinkHtml = 'Like what you see? Visit the ' +\n",
              "            '<a target=\"_blank\" href=https://colab.research.google.com/notebooks/data_table.ipynb>data table notebook</a>'\n",
              "            + ' to learn more about interactive tables.';\n",
              "          element.innerHTML = '';\n",
              "          dataTable['output_type'] = 'display_data';\n",
              "          await google.colab.output.renderOutput(dataTable, element);\n",
              "          const docLink = document.createElement('div');\n",
              "          docLink.innerHTML = docLinkHtml;\n",
              "          element.appendChild(docLink);\n",
              "        }\n",
              "      </script>\n",
              "    </div>\n",
              "  </div>\n",
              "  "
            ]
          },
          "metadata": {},
          "execution_count": 72
        }
      ],
      "source": [
        "data = pd.read_csv('./imdb_processed.csv')\n",
        "data.head()"
      ]
    },
    {
      "cell_type": "code",
      "execution_count": 73,
      "metadata": {
        "id": "YQ5YSgrjbjDj",
        "colab": {
          "base_uri": "https://localhost:8080/"
        },
        "outputId": "625e467c-f780-46b4-d5d3-39c4bb3c096c"
      },
      "outputs": [
        {
          "output_type": "execute_result",
          "data": {
            "text/plain": [
              "[',',\n",
              " 'show',\n",
              " 'faint',\n",
              " 'hearted',\n",
              " 'timid',\n",
              " '.',\n",
              " 'This',\n",
              " 'show',\n",
              " 'pull',\n",
              " 'punch']"
            ]
          },
          "metadata": {},
          "execution_count": 73
        }
      ],
      "source": [
        "# obtain list of words\n",
        "words = ' '.join(data.processed.values).split()\n",
        "\n",
        "# check our list\n",
        "words[30:40]"
      ]
    },
    {
      "cell_type": "code",
      "execution_count": 74,
      "metadata": {
        "id": "pvHO-JBcf_ZJ"
      },
      "outputs": [],
      "source": [
        "# build vocabulary\n",
        "counter = Counter(words)\n",
        "vocab = sorted(counter, key=counter.get, reverse=True)\n",
        "token2word = dict(enumerate(vocab, 1))\n",
        "token2word[0] = '<PAD>'\n",
        "word2token = {word: id for id, word in token2word.items()}"
      ]
    },
    {
      "cell_type": "code",
      "execution_count": 75,
      "metadata": {
        "id": "KmutxG8If_be",
        "colab": {
          "base_uri": "https://localhost:8080/"
        },
        "outputId": "e1e80f53-6fd5-4d69-8918-2e6b26ba9642"
      },
      "outputs": [
        {
          "output_type": "stream",
          "name": "stderr",
          "text": [
            "100%|██████████| 50000/50000 [00:02<00:00, 19168.58it/s]\n"
          ]
        },
        {
          "output_type": "stream",
          "name": "stdout",
          "text": [
            "number of reviews: 50000\n",
            "seq_length: 256\n",
            "\n",
            " first-five words of the first-three reviews:\n",
            "===============\n"
          ]
        },
        {
          "output_type": "execute_result",
          "data": {
            "text/plain": [
              "array([[ 191, 1083,  930,   81, 3724],\n",
              "       [  47,  328,   59,  244,    1],\n",
              "       [   3,   95,  328,   30, 1041]])"
            ]
          },
          "metadata": {},
          "execution_count": 75
        }
      ],
      "source": [
        "\n",
        "# tokenize reviews\n",
        "reviews = data.processed.values\n",
        "reviews_tokenized = [[word2token[word] for word in review.split()] for review in tqdm(reviews)]\n",
        "\n",
        "# padding sequences\n",
        "def pad_features(reviews, pad_id, seq_length):    \n",
        "    features = np.full((len(reviews), seq_length), pad_id, dtype=int)\n",
        "    for i, row in enumerate(reviews):        \n",
        "        features[i, :len(row)] = np.array(row)[:seq_length]\n",
        "\n",
        "    return features\n",
        "\n",
        "features = pad_features(reviews_tokenized, pad_id=word2token['<PAD>'], seq_length=256)\n",
        "\n",
        "print('number of reviews:', len(reviews_tokenized))\n",
        "print('seq_length:', len(features[0]))\n",
        "\n",
        "# print first-5 words of first 3 reviews\n",
        "print('\\n first-five words of the first-three reviews:')\n",
        "print('===============')\n",
        "features[:3, :5]"
      ]
    },
    {
      "cell_type": "markdown",
      "metadata": {
        "id": "10gym2O8k4Jr"
      },
      "source": [
        "### Dataloader"
      ]
    },
    {
      "cell_type": "code",
      "execution_count": 76,
      "metadata": {
        "id": "fUtpw4oSjwOq",
        "colab": {
          "base_uri": "https://localhost:8080/"
        },
        "outputId": "53c8a45e-3673-4c56-cf4a-8e187269041d"
      },
      "outputs": [
        {
          "output_type": "stream",
          "name": "stdout",
          "text": [
            "Train set: (35000, 256)\n",
            "Validation set: (7500, 256)\n",
            "Test set: (7500, 256)\n"
          ]
        }
      ],
      "source": [
        "\n",
        "# we use 70%, 15%, 15% for train, validation, and test sets\n",
        "train_size = .7     \n",
        "val_size = .5\n",
        "labels = data.label.to_numpy()       \n",
        "\n",
        "# make train set\n",
        "split_id = int(len(features) * train_size)\n",
        "train_x, remain_x = features[:split_id], features[split_id:]\n",
        "train_y, remain_y = labels[:split_id], labels[split_id:]\n",
        "\n",
        "# make val and test set\n",
        "split_val_id = int(len(remain_x) * val_size)\n",
        "val_x, test_x = remain_x[:split_val_id], remain_x[split_val_id:]\n",
        "val_y, test_y = remain_y[:split_val_id], remain_y[split_val_id:]\n",
        "\n",
        "# print out the shape\n",
        "print('Train set: {}'.format(train_x.shape))\n",
        "print('Validation set: {}'.format(val_x.shape))\n",
        "print('Test set: {}'.format(test_x.shape))"
      ]
    },
    {
      "cell_type": "code",
      "execution_count": 77,
      "metadata": {
        "id": "XPqwDm8dsqle"
      },
      "outputs": [],
      "source": [
        "\n",
        "class MyDataset(torch.utils.data.Dataset):\n",
        "    def __init__(self, reviews, labels):                  \n",
        "        self.data = torch.utils.data.TensorDataset(torch.from_numpy(reviews), torch.from_numpy(labels).float())        \n",
        "\n",
        "    def __len__(self):\n",
        "        return len(self.data)\n",
        "\n",
        "    def __getitem__(self, index):                                \n",
        "        review = self.data[index][0]\n",
        "        label = self.data[index][1]\n",
        "\n",
        "        return {'review': review, 'label': label}        \n",
        "\n",
        "\n",
        "train_set = MyDataset(train_x, train_y)\n",
        "val_set = MyDataset(val_x, val_y)\n",
        "test_set = MyDataset(test_x, test_y)\n",
        "\n",
        "train_loader = torch.utils.data.DataLoader(train_set, shuffle=True, batch_size=128)\n",
        "val_loader = torch.utils.data.DataLoader(val_set, shuffle=True, batch_size=128)\n",
        "test_loader = torch.utils.data.DataLoader(test_set, shuffle=True, batch_size=128)"
      ]
    },
    {
      "cell_type": "markdown",
      "metadata": {
        "id": "fKcwr-Z7lwyM"
      },
      "source": [
        "### ToDo: Network\n",
        "\n",
        "Implement a neural network based on Long short-term memory (LSTM) that takes a series of words (a review) as input and returns the label of the review indicating whether it is positive (1) or negative (0).\n",
        "\n",
        "Your network should take a python dictionary as input and extract the input sentences from it. Your network should return a python dictionaly containing a key named 'label'."
      ]
    },
    {
      "cell_type": "code",
      "source": [
        "\n",
        "vocab_size = len(vocab)\n",
        "embedding_dim = 300\n",
        "hidden_dim = 128\n",
        "output_dim = 1\n",
        "n_layers = 2\n",
        "drop_prob = 0.5"
      ],
      "metadata": {
        "id": "s2LDJ2Kxd3kw"
      },
      "execution_count": 78,
      "outputs": []
    },
    {
      "cell_type": "code",
      "execution_count": 79,
      "metadata": {
        "id": "J4SS_pxBjwTt",
        "colab": {
          "base_uri": "https://localhost:8080/"
        },
        "outputId": "7a4bdf1a-3fb6-4a06-863b-53a3e0c04704"
      },
      "outputs": [
        {
          "output_type": "stream",
          "name": "stdout",
          "text": [
            "SentimentLSTM(\n",
            "  (embedding): Embedding(121300, 300)\n",
            "  (lstm): LSTM(300, 128, num_layers=2, batch_first=True, dropout=0.5)\n",
            "  (dropout): Dropout(p=0.5, inplace=False)\n",
            "  (fc): Linear(in_features=128, out_features=1, bias=True)\n",
            "  (sigmoid): Sigmoid()\n",
            ")\n"
          ]
        }
      ],
      "source": [
        "\n",
        "# ToDo: Implement your neural network \n",
        "class SentimentLSTM(nn.Module):\n",
        "    def __init__(self, vocab_size, embedding_dim, hidden_dim, output_dim, n_layers, drop_prob):\n",
        "        super(SentimentLSTM, self).__init__()\n",
        "\n",
        "        # ToDo: code here\n",
        "        self.vocab_size = vocab_size\n",
        "        self.embedding_dim = embedding_dim\n",
        "        self.hidden_dim = hidden_dim\n",
        "        self.output_dim = output_dim\n",
        "        self.n_layers = n_layers\n",
        "        self.drop_prob = drop_prob\n",
        "        # Hint: start with an embedding layer\n",
        "        # Hint: using dropout might be useful       \n",
        "        # Hint: choose a suitable activation function for the last layer \n",
        "        self.embedding = nn.Embedding(self.vocab_size, self.embedding_dim)\n",
        "        self.lstm = nn.LSTM(self.embedding_dim, self.hidden_dim, self.n_layers, \n",
        "                            dropout=self.drop_prob, batch_first=True)\n",
        "        self.dropout = nn.Dropout(self.drop_prob)\n",
        "        self.fc = nn.Linear(self.hidden_dim, self.output_dim)\n",
        "        self.sigmoid = nn.Sigmoid()\n",
        "\n",
        "    def forward(self, input_dict):              \n",
        "        \n",
        "         \n",
        "        x = input_dict['review']\n",
        "        # ToDo: code here\n",
        "        # pass the input through the embedding layer\n",
        "        x = self.embedding(x)\n",
        "        \n",
        "        # pass the embeddings through the LSTM layers\n",
        "        lstm_out, _ = self.lstm(x)\n",
        "        \n",
        "        # apply dropout to the LSTM output\n",
        "        lstm_out = self.dropout(lstm_out)\n",
        "        \n",
        "        # pass the LSTM output through the fully connected layer\n",
        "        fc_out = self.fc(lstm_out[:, -1, :])\n",
        "        \n",
        "        # apply sigmoid activation function to get the predicted sentiment label\n",
        "        pred_label = self.sigmoid(fc_out)\n",
        "        return {'label': pred_label}\n",
        "\n",
        "network = SentimentLSTM(vocab_size, embedding_dim, hidden_dim, output_dim, n_layers, drop_prob).to('cuda')\n",
        "print(network)"
      ]
    },
    {
      "cell_type": "code",
      "execution_count": 80,
      "metadata": {
        "id": "aywwSvIWaNXl"
      },
      "outputs": [],
      "source": [
        "\n",
        "# ToDo: define a suitable loss function \n",
        "def my_loss_function(predicted_label, target_label):\n",
        "  \n",
        "  # code here\n",
        "  # The binary cross-entropy loss function\n",
        "  criterion = nn.BCELoss()\n",
        "  loss = criterion(predicted_label, target_label.float()) # Convert to float format\n",
        "  return loss "
      ]
    },
    {
      "cell_type": "code",
      "execution_count": 81,
      "metadata": {
        "id": "6Y2ytRQVq6KJ",
        "colab": {
          "base_uri": "https://localhost:8080/",
          "height": 243
        },
        "outputId": "82da7ce5-3793-424c-98f0-aef82fa488d7"
      },
      "outputs": [
        {
          "output_type": "display_data",
          "data": {
            "text/plain": [
              "<Figure size 1600x400 with 2 Axes>"
            ],
            "image/png": "[encoded data removed]"
          },
          "metadata": {}
        },
        {
          "output_type": "stream",
          "name": "stdout",
          "text": [
            "Validation epoch 9, iteration 50 of 59 (84 %), loss=0.7510839104652405\n"
          ]
        }
      ],
      "source": [
        "\n",
        "# training loop\n",
        "%matplotlib inline\n",
        "from IPython import display\n",
        "\n",
        "# prepare plotting\n",
        "fig = plt.figure(figsize=(20, 5), dpi= 80, facecolor='w', edgecolor='k')\n",
        "axes = fig.subplots(1,2)\n",
        "\n",
        "optimizer = torch.optim.Adam(network.parameters(), lr=0.001)\n",
        "\n",
        "num_epochs = 10\n",
        "train_losses = []\n",
        "val_losses = []\n",
        "\n",
        "for e in range(num_epochs):\n",
        "    train_iter = iter(train_loader)\n",
        "    network.train()\n",
        "    for i in range(len(train_loader)):        \n",
        "        batch_cpu = next(train_iter)\n",
        "        batch_gpu = dict_to_device(batch_cpu, 'cuda')\n",
        "        pred = network(batch_gpu)\n",
        "        pred_cpu = dict_to_device(pred, 'cpu')\n",
        "        batch_gpu['label'] = batch_gpu['label'].view(-1, 1)\n",
        "\n",
        "        # calculate the loss and backward the gradient        \n",
        "        loss = my_loss_function(pred['label'], batch_gpu['label'])        \n",
        "        optimizer.zero_grad()\n",
        "        loss.backward()\n",
        "        optimizer.step()\n",
        "        train_losses.append(loss.item())           \n",
        "\n",
        "        if i%100==0:            \n",
        "            axes[0].cla()                        \n",
        "\n",
        "            # plot the training error on a log plot\n",
        "            axes[0].plot(train_losses, label='loss')\n",
        "            axes[0].set_yscale('log')\n",
        "            axes[0].set_title('Training loss')\n",
        "            axes[0].set_xlabel('number of gradient iterations')\n",
        "            axes[0].legend()\n",
        "\n",
        "            # clear output window and diplay updated figure\n",
        "            display.clear_output(wait=True)\n",
        "            display.display(plt.gcf())\n",
        "            print(\"Training epoch {}, iteration {} of {} ({} %), loss={}\".format(e, i, len(train_loader), 100*i//len(train_loader), train_losses[-1]))            \n",
        "\n",
        "    val_iter = iter(val_loader)\n",
        "    network.eval()    \n",
        "    for i in range(len(val_loader)):\n",
        "        batch_cpu = next(val_iter)\n",
        "        batch_gpu = dict_to_device(batch_cpu, 'cuda')\n",
        "        pred = network(batch_gpu)\n",
        "        pred_cpu = dict_to_device(pred, 'cpu')\n",
        "        batch_gpu['label'] = batch_gpu['label'].view(-1, 1)\n",
        "\n",
        "        # calculate the loss\n",
        "        with torch.no_grad():\n",
        "            loss = my_loss_function(pred['label'], batch_gpu['label'])        \n",
        "            val_losses.append(loss.item()) \n",
        "\n",
        "        if i%10==0: \n",
        "            axes[1].cla()            \n",
        "\n",
        "            # plot the validation error on a log plot\n",
        "            axes[1].plot(val_losses, label='loss')\n",
        "            axes[1].set_yscale('log')\n",
        "            axes[1].set_title('Validation loss')\n",
        "            axes[1].set_xlabel('number of gradient iterations')\n",
        "            axes[1].legend()\n",
        "\n",
        "            # clear output window and diplay updated figure\n",
        "            display.clear_output(wait=True)\n",
        "            display.display(plt.gcf())\n",
        "            print(\"Validation epoch {}, iteration {} of {} ({} %), loss={}\".format(e, i, len(val_loader), 100*i//len(val_loader), val_losses[-1]))            \n",
        "plt.close('all')"
      ]
    },
    {
      "cell_type": "markdown",
      "metadata": {
        "id": "PGSVFB0g4UJo"
      },
      "source": [
        "### ToDo: Evaluation\n",
        "\n",
        "Here we want to report the accuracy of the network's predictions. We have defined a function named 'get_accuracy' that returns the accuracy of the network on its input data.\n",
        "\n",
        "Here, we assumed that the network returns class probabilities as output. If your network returns class indices, you might need to change this evaluation function as well.\n",
        "\n",
        "Print the accuracy of your network for the train, validation, and test sets."
      ]
    },
    {
      "cell_type": "code",
      "execution_count": null,
      "metadata": {
        "id": "oyRNmKET4UJt"
      },
      "outputs": [],
      "source": [
        "\n",
        "def get_accuracy(network, data_loader):\n",
        "    correct = 0\n",
        "    total = 0\n",
        "    with torch.no_grad():\n",
        "        for batch in data_loader:\n",
        "            batch_gpu = {k: v.to(device) for k, v in batch.items()}\n",
        "            pred = network(batch_gpu)['label']\n",
        "            binary_pred = torch.where(pred < 0.5, 0, 1).squeeze(-1)\n",
        "            labels = batch_gpu['label'][:binary_pred.shape[0]]  # select relevant number of labels\n",
        "            correct += binary_pred.eq(labels).sum().item()\n",
        "            total += binary_pred.shape[0]\n",
        "    return correct / total"
      ]
    },
    {
      "cell_type": "code",
      "execution_count": null,
      "metadata": {
        "id": "MmHOEPBc4UJt"
      },
      "outputs": [],
      "source": [
        "\n",
        "#from torch.utils.data import TensorDataset, DataLoader\n",
        "# ToDo: report accuracy on train, validation, and test sets\n",
        "train_acc = get_accuracy(network, train_loader)\n",
        "val_acc = get_accuracy(network, val_loader)\n",
        "test_acc = get_accuracy(network, test_loader)\n",
        "\n",
        "print(f\"Train accuracy: {train_acc:.2f}\")\n",
        "print(f\"Validation accuracy: {val_acc:.2f}\")\n",
        "print(f\"Test accuracy: {test_acc:.2f}\")\n"
      ]
    },
    {
      "cell_type": "code",
      "execution_count": null,
      "metadata": {
        "id": "hXbG8MEo4UJt"
      },
      "outputs": [],
      "source": [
        "# ToDo: print the input review and output of your network for one positive \n",
        "#       example and one negative example in the test set\n",
        "# Select random positive example from test set\n",
        "pos_example_idx = (test_labels == 1).nonzero().flatten()\n",
        "pos_example_idx = pos_example_idx[random.randint(0, len(pos_example_idx)-1)]\n",
        "pos_review = test_dataset[pos_example_idx]['review']\n",
        "pos_label = test_dataset[pos_example_idx]['label']\n",
        "\n",
        "# Select random negative example from test set\n",
        "neg_example_idx = (test_labels == 0).nonzero().flatten()\n",
        "neg_example_idx = neg_example_idx[random.randint(0, len(neg_example_idx)-1)]\n",
        "neg_review = test_dataset[neg_example_idx]['review']\n",
        "neg_label = test_dataset[neg_example_idx]['label']\n",
        "\n",
        "# Convert examples to tensor and send to device\n",
        "pos_review = pos_review.to(device)\n",
        "neg_review = neg_review.to(device)\n",
        "\n",
        "# Predict labels for examples\n",
        "with torch.no_grad():\n",
        "    pos_pred = network(pos_review)['label'].item()\n",
        "    neg_pred = network(neg_review)['label'].item()\n",
        "\n",
        "# Print results\n",
        "print(\"Positive Example:\")\n",
        "print(\"------------------\")\n",
        "print(\"Review:\", \" \".join([token2word[t.item()] for t in pos_review]))\n",
        "print(\"True Label:\", pos_label.item())\n",
        "print(\"Predicted Label:\", round(pos_pred))\n",
        "print()\n",
        "print(\"Negative Example:\")\n",
        "print(\"------------------\")\n",
        "print(\"Review:\", \" \".join([token2word[t.item()] for t in neg_review]))\n",
        "print(\"True Label:\", neg_label.item())\n",
        "print(\"Predicted Label:\", round(neg_pred))\n"
      ]
    }
  ],
  "metadata": {
    "accelerator": "GPU",
    "colab": {
      "toc_visible": true,
      "provenance": []
    },
    "gpuClass": "standard",
    "kernelspec": {
      "display_name": "Python 3",
      "language": "python",
      "name": "python3"
    },
    "language_info": {
      "codemirror_mode": {
        "name": "ipython",
        "version": 3
      },
      "file_extension": ".py",
      "mimetype": "text/x-python",
      "name": "python",
      "nbconvert_exporter": "python",
      "pygments_lexer": "ipython3",
      "version": "3.7.11"
    }
  },
  "nbformat": 4,
  "nbformat_minor": 0
}